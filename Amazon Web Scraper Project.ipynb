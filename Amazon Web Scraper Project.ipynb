{
 "cells": [
  {
   "cell_type": "code",
   "execution_count": null,
   "id": "f236cbb9",
   "metadata": {},
   "outputs": [],
   "source": [
    "# import libraries \n",
    "\n",
    "from bs4 import BeautifulSoup\n",
    "import requests\n",
    "import time\n",
    "import datetime\n",
    "\n",
    "import smtplib\n"
   ]
  },
  {
   "cell_type": "code",
   "execution_count": 2,
   "id": "9b531b61",
   "metadata": {},
   "outputs": [
    {
     "name": "stdout",
     "output_type": "stream",
     "text": [
      "ASUS ROG Strix Scar 15 (2021), 15.6 inches FHD 300Hz/3ms, AMD Ryzen 9 5900HX, GeForce RTX 3080 8GB Graphics, Gaming Laptop(16GB/1TB SSD/Office 2019/Windows 10 Home/Black/2.3 Kg), G533QS-HF210TS\n",
      "1,93,990.00\n"
     ]
    }
   ],
   "source": [
    "# Connect to Website and pull in data\n",
    "\n",
    "URL = 'https://www.amazon.in/ASUS-ROG-Strix-Scar-GeForce-RTX-3080-Office-2019-G533QS-HF210TS/dp/B096VHGPC9/ref=sr_1_1?asc=1&crid=19PZJ8R6FN24O&keywords=Laptops&qid=1641470972&refinements=p_n_feature_thirteen_browse-bin%3A21837407031%2Cp_n_feature_three_browse-bin%3A1464435031%2Cp_n_feature_browse-bin%3A1485947031%2Cp_n_pattern_browse-bin%3A8609969031%2Cp_n_feature_fourteen_browse-bin%3A2917527031&rnid=2917524031&s=computers&sprefix=laptops%2Caps%2C380&sr=1-1'\n",
    "\n",
    "headers = {\"User-Agent\": \"Mozilla/5.0 (Windows NT 10.0; Win64; x64) AppleWebKit/537.36 (KHTML, like Gecko) Chrome/78.0.3904.108 Safari/537.36\", \"Accept-Encoding\":\"gzip, deflate\", \"Accept\":\"text/html,application/xhtml+xml,application/xml;q=0.9,*/*;q=0.8\", \"DNT\":\"1\",\"Connection\":\"close\", \"Upgrade-Insecure-Requests\":\"1\"}\n",
    "\n",
    "page = requests.get(URL, headers=headers)\n",
    "\n",
    "soup1 = BeautifulSoup(page.content, \"html.parser\")\n",
    "\n",
    "soup2 = BeautifulSoup(soup1.prettify(), \"html.parser\")\n",
    "\n",
    "title = soup2.title\n",
    "\n",
    "title = soup2.find(id='productTitle').get_text().strip() # get_text() gets the text, .strip() strips the extra spaces\n",
    "\n",
    "amount = soup2.find('span', 'a-offscreen').get_text().strip()[1:] # after getting the txt and getting rid of the extra spaces, output is ₹1,93,553.00, hence we slice off the rupee symbol using [1:] to store in excel efficiently\n",
    "\n",
    "print(title)\n",
    "print(amount)\n",
    "\n",
    "\n"
   ]
  },
  {
   "cell_type": "code",
   "execution_count": 3,
   "id": "b6f7d66e",
   "metadata": {},
   "outputs": [
    {
     "data": {
      "text/plain": [
       "193990"
      ]
     },
     "execution_count": 3,
     "metadata": {},
     "output_type": "execute_result"
    }
   ],
   "source": [
    "#1,93,990.00 is stored as a string, we need to convert it to int\n",
    "\n",
    "amount = amount.replace(',','')\n",
    "p = float(amount)\n",
    "price = int(p)\n",
    "price"
   ]
  },
  {
   "cell_type": "code",
   "execution_count": 4,
   "id": "4f021c23",
   "metadata": {},
   "outputs": [
    {
     "name": "stdout",
     "output_type": "stream",
     "text": [
      "2022-01-13\n"
     ]
    }
   ],
   "source": [
    "# Create a Timestamp for your output to track when data was collected\n",
    "\n",
    "import datetime\n",
    "\n",
    "today = datetime.date.today()\n",
    "\n",
    "print(today)\n"
   ]
  },
  {
   "cell_type": "code",
   "execution_count": 5,
   "id": "14d703ca",
   "metadata": {},
   "outputs": [],
   "source": [
    "# Create CSV and write headers and data into the file\n",
    "\n",
    "import csv \n",
    "\n",
    "header = ['Title', 'Price', 'Date']\n",
    "data = [title, price, today]\n",
    "\n",
    "\n",
    "with open('AmazonWebScraperDataset.csv', 'w', newline='', encoding='UTF8') as f:\n",
    "    writer = csv.writer(f)\n",
    "    writer.writerow(header)\n",
    "    writer.writerow(data)\n",
    "    \n"
   ]
  },
  {
   "cell_type": "code",
   "execution_count": 6,
   "id": "d07eeb86",
   "metadata": {},
   "outputs": [
    {
     "name": "stdout",
     "output_type": "stream",
     "text": [
      "                                               Title   Price        Date\n",
      "0  ASUS ROG Strix Scar 15 (2021), 15.6 inches FHD...  193990  2022-01-13\n"
     ]
    }
   ],
   "source": [
    "import pandas as pd\n",
    "\n",
    "df = pd.read_csv('AmazonWebScraperDataset.csv')\n",
    "\n",
    "print(df)\n",
    "\n"
   ]
  },
  {
   "cell_type": "code",
   "execution_count": 7,
   "id": "6b05c1eb",
   "metadata": {},
   "outputs": [],
   "source": [
    "#Now we are appending data to the csv\n",
    "\n",
    "with open('AmazonWebScraperDataset.csv', 'a+', newline='', encoding='UTF8') as f:\n",
    "    writer = csv.writer(f)\n",
    "    writer.writerow(data)"
   ]
  },
  {
   "cell_type": "code",
   "execution_count": 8,
   "id": "8e95b9e0",
   "metadata": {},
   "outputs": [],
   "source": [
    "#Combine all of the above code into one function \n",
    "\n",
    "\n",
    "def check_price():\n",
    "    URL = 'https://www.amazon.in/ASUS-ROG-Strix-Scar-GeForce-RTX-3080-Office-2019-G533QS-HF210TS/dp/B096VHGPC9/ref=sr_1_1?asc=1&crid=19PZJ8R6FN24O&keywords=Laptops&qid=1641470972&refinements=p_n_feature_thirteen_browse-bin%3A21837407031%2Cp_n_feature_three_browse-bin%3A1464435031%2Cp_n_feature_browse-bin%3A1485947031%2Cp_n_pattern_browse-bin%3A8609969031%2Cp_n_feature_fourteen_browse-bin%3A2917527031&rnid=2917524031&s=computers&sprefix=laptops%2Caps%2C380&sr=1-1'\n",
    "\n",
    "    headers = {\"User-Agent\": \"Mozilla/5.0 (Windows NT 10.0; Win64; x64) AppleWebKit/537.36 (KHTML, like Gecko) Chrome/78.0.3904.108 Safari/537.36\", \"Accept-Encoding\":\"gzip, deflate\", \"Accept\":\"text/html,application/xhtml+xml,application/xml;q=0.9,*/*;q=0.8\", \"DNT\":\"1\",\"Connection\":\"close\", \"Upgrade-Insecure-Requests\":\"1\"}\n",
    "\n",
    "    page = requests.get(URL, headers=headers)\n",
    "\n",
    "    soup1 = BeautifulSoup(page.content, \"html.parser\")\n",
    "\n",
    "    soup2 = BeautifulSoup(soup1.prettify(), \"html.parser\")\n",
    "\n",
    "    title = soup2.title\n",
    "\n",
    "    title = soup2.find(id='productTitle').get_text().strip() \n",
    "\n",
    "    amount = soup2.find('span', 'a-offscreen').get_text().strip()[1:]\n",
    "    amount = amount.replace(',','')\n",
    "    p = float(amount)\n",
    "    price = int(p)\n",
    "    price\n",
    "    import datetime\n",
    "\n",
    "    today = datetime.date.today()\n",
    "    \n",
    "    import csv \n",
    "\n",
    "    header = ['Title', 'Price', 'Date']\n",
    "    data = [title, price, today]\n",
    "\n",
    "    with open('AmazonWebScraperDataset.csv', 'a+', newline='', encoding='UTF8') as f:\n",
    "        writer = csv.writer(f)\n",
    "        writer.writerow(data)\n",
    "    \n",
    "    if(price < 150000):\n",
    "        send_mail()\n",
    " \n",
    "    "
   ]
  },
  {
   "cell_type": "code",
   "execution_count": null,
   "id": "c72f2c4e",
   "metadata": {},
   "outputs": [],
   "source": [
    "# Runs check_price after a set time and inputs data into your CSV\n",
    "\n",
    "while(True):\n",
    "    check_price()\n",
    "    time.sleep(86400) "
   ]
  },
  {
   "cell_type": "code",
   "execution_count": null,
   "id": "00af7126",
   "metadata": {},
   "outputs": [],
   "source": [
    "import pandas as pd\n",
    "\n",
    "df = pd.read_csv('AmazonWebScraperDataset.csv')\n",
    "\n",
    "print(df)"
   ]
  },
  {
   "cell_type": "code",
   "execution_count": null,
   "id": "d14fce5f",
   "metadata": {},
   "outputs": [],
   "source": [
    "# If uou want to try sending yourself an email, when a price hits below a certain level you can try it\n",
    "# out with this script\n",
    "\n",
    "def send_mail():\n",
    "    server = smtplib.SMTP_SSL('smtp.gmail.com',465)\n",
    "    server.ehlo()\n",
    "    #server.starttls()\n",
    "    server.ehlo()\n",
    "    server.login('luyesterofficial@gmail.com','xxxxxxxxxx')\n",
    "    \n",
    "    subject = \"The Laptop you want is 1,50,000.00! Now is your chance to buy!\"\n",
    "    body = \"Luyester, This is the moment we have been waiting for. Don't mess it up! Link here: https://www.amazon.in/ASUS-ROG-Strix-Scar-GeForce-RTX-3080-Office-2019-G533QS-HF210TS/dp/B096VHGPC9/ref=sr_1_1?asc=1&crid=19PZJ8R6FN24O&keywords=Laptops&qid=1641470972&refinements=p_n_feature_thirteen_browse-bin%3A21837407031%2Cp_n_feature_three_browse-bin%3A1464435031%2Cp_n_feature_browse-bin%3A1485947031%2Cp_n_pattern_browse-bin%3A8609969031%2Cp_n_feature_fourteen_browse-bin%3A2917527031&rnid=2917524031&s=computers&sprefix=laptops%2Caps%2C380&sr=1-1\"\n",
    "   \n",
    "    msg = f\"Subject: {subject}\\n\\n{body}\"\n",
    "    \n",
    "    server.sendmail(\n",
    "        'luyesterofficial@gmail.com',\n",
    "        msg\n",
    "     \n",
    "    )"
   ]
  },
  {
   "cell_type": "code",
   "execution_count": null,
   "id": "4a877e60",
   "metadata": {},
   "outputs": [],
   "source": []
  }
 ],
 "metadata": {
  "kernelspec": {
   "display_name": "Python 3 (ipykernel)",
   "language": "python",
   "name": "python3"
  },
  "language_info": {
   "codemirror_mode": {
    "name": "ipython",
    "version": 3
   },
   "file_extension": ".py",
   "mimetype": "text/x-python",
   "name": "python",
   "nbconvert_exporter": "python",
   "pygments_lexer": "ipython3",
   "version": "3.9.7"
  }
 },
 "nbformat": 4,
 "nbformat_minor": 5
}
